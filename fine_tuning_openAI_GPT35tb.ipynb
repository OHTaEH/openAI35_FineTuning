{
  "cells": [
    {
      "cell_type": "markdown",
      "metadata": {
        "id": "Rc0Y3kh_1Onk"
      },
      "source": [
        "# ChatGPT 3.5 fine-tuning"
      ]
    },
    {
      "cell_type": "code",
      "execution_count": 12,
      "metadata": {
        "id": "ODTIQBN4xBi0"
      },
      "outputs": [],
      "source": [
        "!pip install -q openai tqdm gradio"
      ]
    },
    {
      "cell_type": "markdown",
      "metadata": {
        "id": "5GAHwsXj1t3K"
      },
      "source": [
        "## Process Custom dataset\n",
        "### 세법 또는 사업자종류에 관한 세금 종류\n"
      ]
    },
    {
      "cell_type": "code",
      "execution_count": 13,
      "metadata": {
        "id": "Rv0NQvxo1nZb"
      },
      "outputs": [],
      "source": [
        "import pandas as pd\n",
        "from tqdm import tqdm"
      ]
    },
    {
      "cell_type": "markdown",
      "metadata": {},
      "source": [
        "## 훈련시킬 데이터셋 불러오기"
      ]
    },
    {
      "cell_type": "code",
      "execution_count": null,
      "metadata": {
        "id": "FMGwoy-t1nWS"
      },
      "outputs": [],
      "source": [
        "df = pd.read_excel('train.xlsx')\n",
        "df"
      ]
    },
    {
      "cell_type": "markdown",
      "metadata": {
        "id": "cgYoC6sj2diL"
      },
      "source": [
        "## Format"
      ]
    },
    {
      "cell_type": "markdown",
      "metadata": {
        "id": "Yv6k_SC6-3Sr"
      },
      "source": [
        "### 대화형 챗봇을 하기 위해서 꼭 전처리"
      ]
    },
    {
      "cell_type": "code",
      "execution_count": 15,
      "metadata": {
        "id": "OlceRhci1nRa"
      },
      "outputs": [
        {
          "name": "stderr",
          "output_type": "stream",
          "text": [
            "5it [00:00, 624.45it/s]"
          ]
        },
        {
          "name": "stdout",
          "output_type": "stream",
          "text": [
            "[{'messages': [{'role': 'system', 'content': 'ChatSNS is a chatbot really friendly and concise and a helpful assistant.'}, {'role': 'user', 'content': '종합소득세, 부가가치세, 소득세법상 면세사업의 부가가치세, 취득세, 등록세, 자동차세, 재산세, 종합부동산세, 농어촌특별세, 지방소득세'}]}, {'messages': [{'role': 'system', 'content': 'ChatSNS is a chatbot really friendly and concise and a helpful assistant.'}, {'role': 'user', 'content': '법인세, 부가가치세, 소득세법상 면세사업의 부가가치세, 종합부동산세, 취득세, 등록세, 자동차세, 농어촌특별세, 지방소득세'}]}, {'messages': [{'role': 'system', 'content': 'ChatSNS is a chatbot really friendly and concise and a helpful assistant.'}, {'role': 'user', 'content': '종합소득세, 부가가치세, 소득세법상 면세사업의 부가가치세, 취득세, 등록세, 자동차세, 재산세, 종합부동산세, 농어촌특별세, 지방소득세, 외국인투자촉진법에 따른 외국인투자가산세'}]}, {'messages': [{'role': 'system', 'content': 'ChatSNS is a chatbot really friendly and concise and a helpful assistant.'}, {'role': 'user', 'content': '법인세, 부가가치세, 소득세법상 면세사업의 부가가치세, 종합부동산세, 취득세, 등록세, 자동차세, 농어촌특별세, 지방소득세, 기부금세, 고유목적사업준비금세, 임원보수한도초과액가산세'}]}, {'messages': [{'role': 'system', 'content': 'ChatSNS is a chatbot really friendly and concise and a helpful assistant.'}, {'role': 'user', 'content': '부가가치세, 소득세'}]}]\n"
          ]
        },
        {
          "name": "stderr",
          "output_type": "stream",
          "text": [
            "\n"
          ]
        }
      ],
      "source": [
        "messages = []\n",
        "\n",
        "for i, row in tqdm(df.iterrows()):\n",
        "    try:\n",
        "        message = {\"messages\": [\n",
        "            {\"role\": \"system\", \"content\": \"ChatSNS is a chatbot really friendly and concise and a helpful assistant.\"},\n",
        "            {\"role\": \"user\", \"content\": row['messages']} \n",
        "        ]}\n",
        "        messages.append(message)\n",
        "    except Exception as e:\n",
        "        print(f\"Error at index {i}: {e}\")\n",
        "        break\n",
        "\n",
        "print(messages[:])\n",
        "\n"
      ]
    },
    {
      "cell_type": "code",
      "execution_count": 16,
      "metadata": {
        "id": "8gG7P4V51nMz"
      },
      "outputs": [],
      "source": [
        "import json\n",
        "\n",
        "with open(\"messages.jsonl\", \"w\", encoding=\"utf-8\") as f:\n",
        "    for entry in messages:\n",
        "        json.dump(entry, f, ensure_ascii=False)\n",
        "        f.write('\\n')\n"
      ]
    },
    {
      "cell_type": "code",
      "execution_count": 17,
      "metadata": {},
      "outputs": [],
      "source": [
        "# JSONL 파일 생성 함수\n",
        "def create_jsonl_file(df, file_path):\n",
        "    with open(file_path, 'w') as f:\n",
        "        for item in df:\n",
        "            json.dump({\"input\": item}, f)\n",
        "            f.write('\\n')"
      ]
    },
    {
      "cell_type": "code",
      "execution_count": 18,
      "metadata": {},
      "outputs": [],
      "source": [
        "# JSONL 파일 생성\n",
        "jsonl_file_path = '학습데이터.jsonl'\n",
        "create_jsonl_file(messages, jsonl_file_path)"
      ]
    },
    {
      "cell_type": "code",
      "execution_count": null,
      "metadata": {},
      "outputs": [],
      "source": [
        "# Api키 생성\n",
        "import os\n",
        "import openai\n",
        "\n",
        "openai.api_key = \"openai.api_key\"\n"
      ]
    },
    {
      "cell_type": "markdown",
      "metadata": {},
      "source": [
        "#### 기본 prompt"
      ]
    },
    {
      "cell_type": "code",
      "execution_count": null,
      "metadata": {},
      "outputs": [],
      "source": [
        "prompt_template = \"\"\"\n",
        "사업자 개인 정보:\n",
        "0. 오늘 날짜 : 2023년 9월 19일\n",
        "1. 올 해  매출 :\n",
        "2. 경비 :\n",
        "3. 자산 : \n",
        "4. 세금 전 수익 : \n",
        "5. 업종 : \n",
        "6. 사업자종류 : \n",
        "\n",
        "과세표준   세율   누진공제액\n",
        "1,200만 원 이하   6%   -\n",
        "1,200만 원 초과 ~ 4,600만 원 이하   15%   108만 원\n",
        "4,600만 원 초과 ~ 8,800만 원 이하   24%   522만 원\n",
        "8,800만 원 초과 ~ 1.5억 원 이하   35%   1,490만 원\n",
        "1.5억 원 초과 ~ 3억 원 이하   38%   1,940만 원\n",
        "3억 원 초과 ~ 5억 원 이하   40%   2,540만 원\n",
        "5억 원 초과 ~ 10억 원 이하   42%   3,540만 원\n",
        "10억 원 초과   45%   6,540만 원\n",
        "다음 정보를 참고하여 500 글자 내로 답변해주세요. 답변은 구체적인 금액을 포함해야 합니다. 자세한 내용은 세무사와 상담하라고 해주세요:\n",
        "\"\"\""
      ]
    },
    {
      "cell_type": "code",
      "execution_count": null,
      "metadata": {},
      "outputs": [],
      "source": [
        "# 파인 튜닝 실행 함수\n",
        "def fine_tune_model(jsonl_file):\n",
        "    with open(jsonl_file, 'r') as f:\n",
        "        training_data_jsonl = f.read()\n",
        "\n",
        "    response = openai.ChatCompletion.create(\n",
        "        model=\"gpt-3.5-turbo\",\n",
        "        messages=[\n",
        "            {\"role\": \"system\", \"content\": \"ChatSNS is a chatbot really fridendly and concise and a helpful assistant and Unconditionally, you should never lie..\"},\n",
        "            {\"role\": \"user\", \"content\": \"training_data_jsonl\"}\n",
        "        ],\n",
        "        max_tokens=1000,  # 원하는 최대 출력 길이 설정 (상황에 맞게 조정)\n",
        "        n=1,  # 생성할 출력 예시 개수 (상황에 맞게 조정)\n",
        "        temperature=0.2,  # 다양성 조절 (0에서 1 사이 값; 낮으면 보수적, 높으면 창의적)\n",
        "    )\n",
        "\n",
        "    for choice in response.choices:\n",
        "        generated_text = choice.message['content'].strip()\n",
        "        # 생성된 결과 처리 로직 추가\n",
        "\n",
        "fine_tune_model(jsonl_file_path)\n",
        "\n",
        "print(fine_tune_model(jsonl_file_path))"
      ]
    },
    {
      "cell_type": "markdown",
      "metadata": {
        "id": "BItI2ah8Atsz"
      },
      "source": [
        "### Upload the file to open AI server"
      ]
    },
    {
      "cell_type": "markdown",
      "metadata": {
        "id": "wtSziK6iDAKa"
      },
      "source": [
        "## Test"
      ]
    },
    {
      "cell_type": "code",
      "execution_count": 20,
      "metadata": {},
      "outputs": [
        {
          "name": "stderr",
          "output_type": "stream",
          "text": [
            "C:\\Users\\user\\AppData\\Local\\Temp\\ipykernel_16312\\3254947575.py:49: GradioDeprecationWarning: The `style` method is deprecated. Please set these arguments in the constructor instead.\n",
            "  chatbot = gr.Chatbot(elem_id='무엇을 도와드릴까요?').style(container=False)\n",
            "C:\\Users\\user\\AppData\\Local\\Temp\\ipykernel_16312\\3254947575.py:52: GradioDeprecationWarning: The `style` method is deprecated. Please set these arguments in the constructor instead.\n",
            "  txt = gr.Textbox(show_label=False, placeholder='사업자를 선택해주세요').style(container=False)\n"
          ]
        },
        {
          "name": "stdout",
          "output_type": "stream",
          "text": [
            "Running on local URL:  http://127.0.0.1:7860\n",
            "\n",
            "Could not create share link. Please check your internet connection or our status page: https://status.gradio.app.\n"
          ]
        },
        {
          "data": {
            "text/html": [
              "<div><iframe src=\"http://127.0.0.1:7860/\" width=\"100%\" height=\"500\" allow=\"autoplay; camera; microphone; clipboard-read; clipboard-write;\" frameborder=\"0\" allowfullscreen></iframe></div>"
            ],
            "text/plain": [
              "<IPython.core.display.HTML object>"
            ]
          },
          "metadata": {},
          "output_type": "display_data"
        },
        {
          "name": "stderr",
          "output_type": "stream",
          "text": [
            "Traceback (most recent call last):\n",
            "  File \"c:\\Users\\user\\anaconda3\\envs\\billl\\lib\\site-packages\\gradio\\routes.py\", line 508, in predict\n",
            "    output = await route_utils.call_process_api(\n",
            "  File \"c:\\Users\\user\\anaconda3\\envs\\billl\\lib\\site-packages\\gradio\\route_utils.py\", line 219, in call_process_api\n",
            "    output = await app.get_blocks().process_api(\n",
            "  File \"c:\\Users\\user\\anaconda3\\envs\\billl\\lib\\site-packages\\gradio\\blocks.py\", line 1437, in process_api\n",
            "    result = await self.call_function(\n",
            "  File \"c:\\Users\\user\\anaconda3\\envs\\billl\\lib\\site-packages\\gradio\\blocks.py\", line 1109, in call_function\n",
            "    prediction = await anyio.to_thread.run_sync(\n",
            "  File \"c:\\Users\\user\\anaconda3\\envs\\billl\\lib\\site-packages\\anyio\\to_thread.py\", line 33, in run_sync\n",
            "    return await get_asynclib().run_sync_in_worker_thread(\n",
            "  File \"c:\\Users\\user\\anaconda3\\envs\\billl\\lib\\site-packages\\anyio\\_backends\\_asyncio.py\", line 877, in run_sync_in_worker_thread\n",
            "    return await future\n",
            "  File \"c:\\Users\\user\\anaconda3\\envs\\billl\\lib\\site-packages\\anyio\\_backends\\_asyncio.py\", line 807, in run\n",
            "    result = context.run(func, *args)\n",
            "  File \"c:\\Users\\user\\anaconda3\\envs\\billl\\lib\\site-packages\\gradio\\utils.py\", line 641, in wrapper\n",
            "    response = f(*args, **kwargs)\n",
            "  File \"C:\\Users\\user\\AppData\\Local\\Temp\\ipykernel_16312\\3254947575.py\", line 9, in answer\n",
            "    res = openai.ChatCompletion.create(\n",
            "NameError: name 'openai' is not defined. Did you mean: 'open'?\n",
            "Traceback (most recent call last):\n",
            "  File \"c:\\Users\\user\\anaconda3\\envs\\billl\\lib\\site-packages\\gradio\\routes.py\", line 508, in predict\n",
            "    output = await route_utils.call_process_api(\n",
            "  File \"c:\\Users\\user\\anaconda3\\envs\\billl\\lib\\site-packages\\gradio\\route_utils.py\", line 219, in call_process_api\n",
            "    output = await app.get_blocks().process_api(\n",
            "  File \"c:\\Users\\user\\anaconda3\\envs\\billl\\lib\\site-packages\\gradio\\blocks.py\", line 1437, in process_api\n",
            "    result = await self.call_function(\n",
            "  File \"c:\\Users\\user\\anaconda3\\envs\\billl\\lib\\site-packages\\gradio\\blocks.py\", line 1109, in call_function\n",
            "    prediction = await anyio.to_thread.run_sync(\n",
            "  File \"c:\\Users\\user\\anaconda3\\envs\\billl\\lib\\site-packages\\anyio\\to_thread.py\", line 33, in run_sync\n",
            "    return await get_asynclib().run_sync_in_worker_thread(\n",
            "  File \"c:\\Users\\user\\anaconda3\\envs\\billl\\lib\\site-packages\\anyio\\_backends\\_asyncio.py\", line 877, in run_sync_in_worker_thread\n",
            "    return await future\n",
            "  File \"c:\\Users\\user\\anaconda3\\envs\\billl\\lib\\site-packages\\anyio\\_backends\\_asyncio.py\", line 807, in run\n",
            "    result = context.run(func, *args)\n",
            "  File \"c:\\Users\\user\\anaconda3\\envs\\billl\\lib\\site-packages\\gradio\\utils.py\", line 641, in wrapper\n",
            "    response = f(*args, **kwargs)\n",
            "  File \"C:\\Users\\user\\AppData\\Local\\Temp\\ipykernel_16312\\3254947575.py\", line 9, in answer\n",
            "    res = openai.ChatCompletion.create(\n",
            "NameError: name 'openai' is not defined. Did you mean: 'open'?\n",
            "Traceback (most recent call last):\n",
            "  File \"c:\\Users\\user\\anaconda3\\envs\\billl\\lib\\site-packages\\gradio\\routes.py\", line 508, in predict\n",
            "    output = await route_utils.call_process_api(\n",
            "  File \"c:\\Users\\user\\anaconda3\\envs\\billl\\lib\\site-packages\\gradio\\route_utils.py\", line 219, in call_process_api\n",
            "    output = await app.get_blocks().process_api(\n",
            "  File \"c:\\Users\\user\\anaconda3\\envs\\billl\\lib\\site-packages\\gradio\\blocks.py\", line 1435, in process_api\n",
            "    inputs = self.preprocess_data(fn_index, inputs, state)\n",
            "  File \"c:\\Users\\user\\anaconda3\\envs\\billl\\lib\\site-packages\\gradio\\blocks.py\", line 1228, in preprocess_data\n",
            "    self.validate_inputs(fn_index, inputs)\n",
            "  File \"c:\\Users\\user\\anaconda3\\envs\\billl\\lib\\site-packages\\gradio\\blocks.py\", line 1215, in validate_inputs\n",
            "    raise ValueError(\n",
            "ValueError: An event handler (answer) didn't receive enough input values (needed: 3, got: 1).\n",
            "Check if the event handler calls a Javascript function, and make sure its return value is correct.\n",
            "Wanted inputs:\n",
            "    [state, state, textbox]\n",
            "Received inputs:\n",
            "    [\"개인\"]\n",
            "Traceback (most recent call last):\n",
            "  File \"c:\\Users\\user\\anaconda3\\envs\\billl\\lib\\site-packages\\gradio\\routes.py\", line 508, in predict\n",
            "    output = await route_utils.call_process_api(\n",
            "  File \"c:\\Users\\user\\anaconda3\\envs\\billl\\lib\\site-packages\\gradio\\route_utils.py\", line 219, in call_process_api\n",
            "    output = await app.get_blocks().process_api(\n",
            "  File \"c:\\Users\\user\\anaconda3\\envs\\billl\\lib\\site-packages\\gradio\\blocks.py\", line 1437, in process_api\n",
            "    result = await self.call_function(\n",
            "  File \"c:\\Users\\user\\anaconda3\\envs\\billl\\lib\\site-packages\\gradio\\blocks.py\", line 1109, in call_function\n",
            "    prediction = await anyio.to_thread.run_sync(\n",
            "  File \"c:\\Users\\user\\anaconda3\\envs\\billl\\lib\\site-packages\\anyio\\to_thread.py\", line 33, in run_sync\n",
            "    return await get_asynclib().run_sync_in_worker_thread(\n",
            "  File \"c:\\Users\\user\\anaconda3\\envs\\billl\\lib\\site-packages\\anyio\\_backends\\_asyncio.py\", line 877, in run_sync_in_worker_thread\n",
            "    return await future\n",
            "  File \"c:\\Users\\user\\anaconda3\\envs\\billl\\lib\\site-packages\\anyio\\_backends\\_asyncio.py\", line 807, in run\n",
            "    result = context.run(func, *args)\n",
            "  File \"c:\\Users\\user\\anaconda3\\envs\\billl\\lib\\site-packages\\gradio\\utils.py\", line 641, in wrapper\n",
            "    response = f(*args, **kwargs)\n",
            "  File \"C:\\Users\\user\\AppData\\Local\\Temp\\ipykernel_16312\\3254947575.py\", line 9, in answer\n",
            "    res = openai.ChatCompletion.create(\n",
            "NameError: name 'openai' is not defined. Did you mean: 'open'?\n"
          ]
        },
        {
          "name": "stdout",
          "output_type": "stream",
          "text": [
            "Keyboard interruption in main thread... closing server.\n"
          ]
        },
        {
          "data": {
            "text/plain": []
          },
          "execution_count": 20,
          "metadata": {},
          "output_type": "execute_result"
        }
      ],
      "source": [
        "import gradio as gr\n",
        "\n",
        "def answer(state, state_chatbot, text):\n",
        "    messages = state + [{\n",
        "        'role': 'user',\n",
        "        'content': text\n",
        "    }]\n",
        " \n",
        "    res = openai.ChatCompletion.create(\n",
        "        model='gpt-3.5-turbo',\n",
        "        messages=messages\n",
        "    )\n",
        " \n",
        "    msg = res['choices'][0]['messages']['content']\n",
        " \n",
        "    new_state = [{\n",
        "        'role': 'user',\n",
        "        'content': text\n",
        "    }, {\n",
        "        'role': 'assistant',\n",
        "        'content': msg\n",
        "    }]\n",
        " \n",
        "    state = state + new_state\n",
        "    state_chatbot = state_chatbot + [(text, msg)]\n",
        " \n",
        "    print(state)\n",
        " \n",
        "    return state, state_chatbot, state_chatbot\n",
        " \n",
        " \n",
        "with gr.Blocks(css='#chatbot .overflow-y-auto{height:300px}') as demo:\n",
        "    state = gr.State([{\n",
        "        'role': 'system',\n",
        "        'content': 'You are a helpful assistant.'\n",
        "    }])\n",
        "    state_chatbot = gr.State([])\n",
        " \n",
        "    with gr.Row():\n",
        "        gr.HTML(\"\"\"<div style=\"text-align: center; max-width: 300px; margin: 0 auto;\">\n",
        "            <div>\n",
        "                <h1>   영   수   증   </h1>\n",
        "            </div>\n",
        "            <p style=\"margin-bottom: 10px; font-size: 30%\">\n",
        "            </p>\n",
        "        </div>\"\"\")\n",
        " \n",
        "    with gr.Row():\n",
        "        chatbot = gr.Chatbot(elem_id='무엇을 도와드릴까요?').style(container=False)\n",
        " \n",
        "    with gr.Row():\n",
        "        txt = gr.Textbox(show_label=False, placeholder='사업자를 선택해주세요').style(container=False)\n",
        " \n",
        "    txt.submit(answer, [state, state_chatbot, txt], [state, state_chatbot, chatbot])\n",
        "    txt.submit(lambda: '', None, txt)\n",
        " \n",
        "demo.launch(debug=True, share=True)"
      ]
    },
    {
      "cell_type": "code",
      "execution_count": null,
      "metadata": {},
      "outputs": [],
      "source": [
        "# def answer(state, text):\n",
        "#     if not state:\n",
        "#         state = [{\n",
        "#             \"role\": \"system\",\n",
        "#             \"content\": \"You are a helpful assistant.\"\n",
        "#         }]\n",
        "    \n",
        "#     messages = state + [{\n",
        "#         'role': 'user',\n",
        "#         'content': text\n",
        "#     }]\n",
        "\n",
        "#     res = openai.ChatCompletion.create(\n",
        "#         model='gpt-3.5-turbo',\n",
        "#         messages=messages\n",
        "#     )\n",
        "\n",
        "#     msg = res['choices'][0]['message']['content']\n",
        "\n",
        "#     new_state = state + [{\n",
        "#         'role': 'user',\n",
        "#         'content': text\n",
        "#     }, {\n",
        "#         'role': 'assistant',\n",
        "#         'content': msg\n",
        "#     }]\n",
        "\n",
        "#     return new_state, \"\", [(text, msg)]"
      ]
    },
    {
      "cell_type": "code",
      "execution_count": null,
      "metadata": {
        "id": "EHjVLhRZCTKi"
      },
      "outputs": [],
      "source": [
        "# model_id = \"ft:gpt-3.5-turbo-\"\n",
        "\n",
        "# uesr_input = \"개인사업자\"\n",
        "\n",
        "# completion = openai.ChatCompletion.create(\n",
        "#     model = model_id,\n",
        "#     messages = [\n",
        "#         {\"role\": \"system\", \"content\": \"ChatSNS is a chatbot really fridendly and concise.\"},\n",
        "#         {\"role\": \"user\", \"content\": uesr_input},\n",
        "#     ]\n",
        "# )\n",
        "\n",
        "# print(completion.choices[0].message[\"content\"])"
      ]
    },
    {
      "cell_type": "markdown",
      "metadata": {
        "id": "a-kMVCkimvkO"
      },
      "source": [
        "# 단순 웹페이지에 챗봇 만들기\n",
        "## Gradio 사용"
      ]
    },
    {
      "cell_type": "code",
      "execution_count": null,
      "metadata": {
        "id": "y08AUzTnCTHq"
      },
      "outputs": [],
      "source": [
        "# import gradio as gr\n",
        "\n",
        "# def predict (input, history):\n",
        "#   history.append( {\"role\": \"user\", \"content\": input})\n",
        "#   gpt_response = openai.ChatCompletion.create(\n",
        "#       model = model_id,\n",
        "#       messages = history\n",
        "#   )\n",
        "\n",
        "#   response = gpt_response[ \"choices\"] [0][][ \"message\" ][ \"content \"]\n",
        "\n",
        "#   history.append ({\"role\": \"assistant\", \"content\": response})\n",
        "\n",
        "#   messages = [(history[i][\"content\"], history[i+1][\"content\"J]) for i in range(1, len(history), 2)]\n",
        "\n",
        "#   return messages, history\n",
        "\n",
        "\n",
        "# with gr.Blocks() as demo:\n",
        "#   chatbot = gr.Chatbot(label= \"ChatBot\")\n",
        "\n",
        "#   state = gr.State([{\n",
        "#       \"role\": \"system\",\n",
        "#       \"content\": \"ChatSNS is a chatbot really friendly and concise.\"\n",
        "#   }])\n",
        "\n",
        "#   with gr.Row():\n",
        "#     txt = gr.Textbox(show_label =False, placeholder = \"운영하시는 사업자를 선택해주세요.\").style(container = False)\n",
        "\n",
        "#   txt.submit(predict, [txt, style], [chatbot, state])\n",
        "\n",
        "# demo.launch(debug = True, share = )"
      ]
    },
    {
      "cell_type": "code",
      "execution_count": null,
      "metadata": {
        "id": "HiNsGpsvm4jo"
      },
      "outputs": [],
      "source": []
    }
  ],
  "metadata": {
    "accelerator": "GPU",
    "colab": {
      "gpuType": "T4",
      "provenance": []
    },
    "kernelspec": {
      "display_name": "Python 3",
      "name": "python3"
    },
    "language_info": {
      "codemirror_mode": {
        "name": "ipython",
        "version": 3
      },
      "file_extension": ".py",
      "mimetype": "text/x-python",
      "name": "python",
      "nbconvert_exporter": "python",
      "pygments_lexer": "ipython3",
      "version": "3.10.13"
    }
  },
  "nbformat": 4,
  "nbformat_minor": 0
}
